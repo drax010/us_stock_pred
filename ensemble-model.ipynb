{
 "cells": [
  {
   "cell_type": "code",
   "execution_count": 2,
   "id": "40f6c389",
   "metadata": {
    "papermill": {
     "duration": 10.074581,
     "end_time": "2024-01-11T09:33:43.725109",
     "exception": false,
     "start_time": "2024-01-11T09:33:33.650528",
     "status": "completed"
    },
    "tags": []
   },
   "outputs": [
    {
     "ename": "ImportError",
     "evalue": "cannot import name 'Dataset' from 'datasets' (unknown location)",
     "output_type": "error",
     "traceback": [
      "\u001b[1;31m---------------------------------------------------------------------------\u001b[0m",
      "\u001b[1;31mImportError\u001b[0m                               Traceback (most recent call last)",
      "\u001b[1;32m~\\AppData\\Local\\Temp\\ipykernel_21248\\2791093994.py\u001b[0m in \u001b[0;36m<module>\u001b[1;34m\u001b[0m\n\u001b[0;32m     27\u001b[0m )\n\u001b[0;32m     28\u001b[0m \u001b[1;33m\u001b[0m\u001b[0m\n\u001b[1;32m---> 29\u001b[1;33m \u001b[1;32mfrom\u001b[0m \u001b[0mdatasets\u001b[0m \u001b[1;32mimport\u001b[0m \u001b[0mDataset\u001b[0m\u001b[1;33m\u001b[0m\u001b[1;33m\u001b[0m\u001b[0m\n\u001b[0m\u001b[0;32m     30\u001b[0m \u001b[1;33m\u001b[0m\u001b[0m\n\u001b[0;32m     31\u001b[0m \u001b[1;32mfrom\u001b[0m \u001b[0mtqdm\u001b[0m\u001b[1;33m.\u001b[0m\u001b[0mauto\u001b[0m \u001b[1;32mimport\u001b[0m \u001b[0mtqdm\u001b[0m\u001b[1;33m\u001b[0m\u001b[1;33m\u001b[0m\u001b[0m\n",
      "\u001b[1;31mImportError\u001b[0m: cannot import name 'Dataset' from 'datasets' (unknown location)"
     ]
    }
   ],
   "source": [
    "import pandas as pd\n",
    "import json\n",
    "import sys\n",
    "import gc\n",
    "from sklearn.model_selection import StratifiedKFold\n",
    "import numpy as np\n",
    "from sklearn.metrics import roc_auc_score\n",
    "from lightgbm import LGBMClassifier\n",
    "from sklearn.feature_extraction.text import TfidfVectorizer\n",
    "from tokenizers import (\n",
    "    decoders,\n",
    "    models,\n",
    "    normalizers,\n",
    "    pre_tokenizers,\n",
    "    processors,\n",
    "    trainers,\n",
    "    Tokenizer,\n",
    ")\n",
    "from datasets import Dataset\n",
    "from tqdm.auto import tqdm\n",
    "from transformers import PreTrainedTokenizerFast\n",
    "from sklearn.linear_model import SGDClassifier\n",
    "from sklearn.naive_bayes import MultinomialNB\n",
    "from sklearn.ensemble import VotingClassifier"
   ]
  },
  {
   "cell_type": "code",
   "execution_count": 2,
   "id": "a0511e41",
   "metadata": {
    "execution": {
     "iopub.execute_input": "2024-01-11T09:33:43.763170Z",
     "iopub.status.busy": "2024-01-11T09:33:43.762286Z",
     "iopub.status.idle": "2024-01-11T09:33:43.821990Z",
     "shell.execute_reply": "2024-01-11T09:33:43.820298Z"
    },
    "papermill": {
     "duration": 0.071903,
     "end_time": "2024-01-11T09:33:43.824476",
     "exception": false,
     "start_time": "2024-01-11T09:33:43.752573",
     "status": "completed"
    },
    "tags": []
   },
   "outputs": [
    {
     "data": {
      "text/html": [
       "<div>\n",
       "<style scoped>\n",
       "    .dataframe tbody tr th:only-of-type {\n",
       "        vertical-align: middle;\n",
       "    }\n",
       "\n",
       "    .dataframe tbody tr th {\n",
       "        vertical-align: top;\n",
       "    }\n",
       "\n",
       "    .dataframe thead th {\n",
       "        text-align: right;\n",
       "    }\n",
       "</style>\n",
       "<table border=\"1\" class=\"dataframe\">\n",
       "  <thead>\n",
       "    <tr style=\"text-align: right;\">\n",
       "      <th></th>\n",
       "      <th>id</th>\n",
       "      <th>text</th>\n",
       "      <th>prediction</th>\n",
       "      <th>generated</th>\n",
       "    </tr>\n",
       "  </thead>\n",
       "  <tbody>\n",
       "    <tr>\n",
       "      <th>0</th>\n",
       "      <td>33895</td>\n",
       "      <td>First impressions are a crucial aspect of our...</td>\n",
       "      <td>0.410707</td>\n",
       "      <td>1</td>\n",
       "    </tr>\n",
       "    <tr>\n",
       "      <th>1</th>\n",
       "      <td>39951</td>\n",
       "      <td>As an eighth-grade student, I possess a talent...</td>\n",
       "      <td>0.413961</td>\n",
       "      <td>1</td>\n",
       "    </tr>\n",
       "    <tr>\n",
       "      <th>2</th>\n",
       "      <td>26725</td>\n",
       "      <td>Ummm... hey there!  So, umm... Winston Churchi...</td>\n",
       "      <td>0.467152</td>\n",
       "      <td>1</td>\n",
       "    </tr>\n",
       "    <tr>\n",
       "      <th>3</th>\n",
       "      <td>35647</td>\n",
       "      <td>\"When you are doing something wrong and someo...</td>\n",
       "      <td>0.356944</td>\n",
       "      <td>1</td>\n",
       "    </tr>\n",
       "    <tr>\n",
       "      <th>4</th>\n",
       "      <td>27976</td>\n",
       "      <td>I believe that working 10 hours a day is more...</td>\n",
       "      <td>0.450531</td>\n",
       "      <td>1</td>\n",
       "    </tr>\n",
       "    <tr>\n",
       "      <th>...</th>\n",
       "      <td>...</td>\n",
       "      <td>...</td>\n",
       "      <td>...</td>\n",
       "      <td>...</td>\n",
       "    </tr>\n",
       "    <tr>\n",
       "      <th>165</th>\n",
       "      <td>26115</td>\n",
       "      <td>Cell phones have become a hot topic when it co...</td>\n",
       "      <td>0.490097</td>\n",
       "      <td>1</td>\n",
       "    </tr>\n",
       "    <tr>\n",
       "      <th>166</th>\n",
       "      <td>29732</td>\n",
       "      <td>Honesty is a virtue that is often associated ...</td>\n",
       "      <td>0.331009</td>\n",
       "      <td>1</td>\n",
       "    </tr>\n",
       "    <tr>\n",
       "      <th>167</th>\n",
       "      <td>36240</td>\n",
       "      <td>The advantages of limiting car usage are becom...</td>\n",
       "      <td>0.473156</td>\n",
       "      <td>1</td>\n",
       "    </tr>\n",
       "    <tr>\n",
       "      <th>168</th>\n",
       "      <td>39819</td>\n",
       "      <td>Drivers Should Not Use Cell Phones in Any Capa...</td>\n",
       "      <td>0.419902</td>\n",
       "      <td>1</td>\n",
       "    </tr>\n",
       "    <tr>\n",
       "      <th>169</th>\n",
       "      <td>35456</td>\n",
       "      <td>According to the National Center for Education...</td>\n",
       "      <td>0.430731</td>\n",
       "      <td>1</td>\n",
       "    </tr>\n",
       "  </tbody>\n",
       "</table>\n",
       "<p>170 rows × 4 columns</p>\n",
       "</div>"
      ],
      "text/plain": [
       "        id                                               text  prediction  \\\n",
       "0    33895   First impressions are a crucial aspect of our...    0.410707   \n",
       "1    39951  As an eighth-grade student, I possess a talent...    0.413961   \n",
       "2    26725  Ummm... hey there!  So, umm... Winston Churchi...    0.467152   \n",
       "3    35647   \"When you are doing something wrong and someo...    0.356944   \n",
       "4    27976   I believe that working 10 hours a day is more...    0.450531   \n",
       "..     ...                                                ...         ...   \n",
       "165  26115  Cell phones have become a hot topic when it co...    0.490097   \n",
       "166  29732   Honesty is a virtue that is often associated ...    0.331009   \n",
       "167  36240  The advantages of limiting car usage are becom...    0.473156   \n",
       "168  39819  Drivers Should Not Use Cell Phones in Any Capa...    0.419902   \n",
       "169  35456  According to the National Center for Education...    0.430731   \n",
       "\n",
       "     generated  \n",
       "0            1  \n",
       "1            1  \n",
       "2            1  \n",
       "3            1  \n",
       "4            1  \n",
       "..         ...  \n",
       "165          1  \n",
       "166          1  \n",
       "167          1  \n",
       "168          1  \n",
       "169          1  \n",
       "\n",
       "[170 rows x 4 columns]"
      ]
     },
     "execution_count": 2,
     "metadata": {},
     "output_type": "execute_result"
    }
   ],
   "source": [
    "\n",
    "edge_cases = pd.read_csv(\"/kaggle/input/llm-daigt-find-edge-case/edge_cases.csv\")\n",
    "\n",
    "edge_cases\n"
   ]
  },
  {
   "cell_type": "code",
   "execution_count": 3,
   "id": "34c9c72a",
   "metadata": {
    "execution": {
     "iopub.execute_input": "2024-01-11T09:33:43.863371Z",
     "iopub.status.busy": "2024-01-11T09:33:43.862792Z",
     "iopub.status.idle": "2024-01-11T09:33:43.875299Z",
     "shell.execute_reply": "2024-01-11T09:33:43.873583Z"
    },
    "papermill": {
     "duration": 0.026046,
     "end_time": "2024-01-11T09:33:43.878140",
     "exception": false,
     "start_time": "2024-01-11T09:33:43.852094",
     "status": "completed"
    },
    "tags": []
   },
   "outputs": [
    {
     "data": {
      "text/plain": [
       "array([1])"
      ]
     },
     "execution_count": 3,
     "metadata": {},
     "output_type": "execute_result"
    }
   ],
   "source": [
    "edge_cases[\"generated\"].unique()"
   ]
  },
  {
   "cell_type": "code",
   "execution_count": 4,
   "id": "552c5777",
   "metadata": {
    "execution": {
     "iopub.execute_input": "2024-01-11T09:33:43.917799Z",
     "iopub.status.busy": "2024-01-11T09:33:43.916772Z",
     "iopub.status.idle": "2024-01-11T09:33:44.122402Z",
     "shell.execute_reply": "2024-01-11T09:33:44.120960Z"
    },
    "papermill": {
     "duration": 0.219265,
     "end_time": "2024-01-11T09:33:44.124889",
     "exception": false,
     "start_time": "2024-01-11T09:33:43.905624",
     "status": "completed"
    },
    "tags": []
   },
   "outputs": [
    {
     "data": {
      "text/plain": [
       "(0.0, 0.40149828802332427, 0.4246961745658604, 0.4985209873471804)"
      ]
     },
     "execution_count": 4,
     "metadata": {},
     "output_type": "execute_result"
    }
   ],
   "source": [
    "edge_cases[\"prediction\"].min(), edge_cases[\"prediction\"].mean() , edge_cases[\"prediction\"].median(),edge_cases[\"prediction\"].max()\n"
   ]
  },
  {
   "cell_type": "code",
   "execution_count": 5,
   "id": "2e78c466",
   "metadata": {
    "execution": {
     "iopub.execute_input": "2024-01-11T09:33:44.164975Z",
     "iopub.status.busy": "2024-01-11T09:33:44.164311Z",
     "iopub.status.idle": "2024-01-11T09:33:44.184511Z",
     "shell.execute_reply": "2024-01-11T09:33:44.182891Z"
    },
    "papermill": {
     "duration": 0.033787,
     "end_time": "2024-01-11T09:33:44.187212",
     "exception": false,
     "start_time": "2024-01-11T09:33:44.153425",
     "status": "completed"
    },
    "tags": []
   },
   "outputs": [
    {
     "data": {
      "text/html": [
       "<div>\n",
       "<style scoped>\n",
       "    .dataframe tbody tr th:only-of-type {\n",
       "        vertical-align: middle;\n",
       "    }\n",
       "\n",
       "    .dataframe tbody tr th {\n",
       "        vertical-align: top;\n",
       "    }\n",
       "\n",
       "    .dataframe thead th {\n",
       "        text-align: right;\n",
       "    }\n",
       "</style>\n",
       "<table border=\"1\" class=\"dataframe\">\n",
       "  <thead>\n",
       "    <tr style=\"text-align: right;\">\n",
       "      <th></th>\n",
       "      <th>count</th>\n",
       "    </tr>\n",
       "    <tr>\n",
       "      <th>prediction</th>\n",
       "      <th></th>\n",
       "    </tr>\n",
       "  </thead>\n",
       "  <tbody>\n",
       "    <tr>\n",
       "      <th>(0.4, 0.5]</th>\n",
       "      <td>109</td>\n",
       "    </tr>\n",
       "    <tr>\n",
       "      <th>(0.3, 0.4]</th>\n",
       "      <td>43</td>\n",
       "    </tr>\n",
       "    <tr>\n",
       "      <th>(0.2, 0.3]</th>\n",
       "      <td>12</td>\n",
       "    </tr>\n",
       "    <tr>\n",
       "      <th>(0.1, 0.2]</th>\n",
       "      <td>2</td>\n",
       "    </tr>\n",
       "    <tr>\n",
       "      <th>(0.0, 0.1]</th>\n",
       "      <td>0</td>\n",
       "    </tr>\n",
       "  </tbody>\n",
       "</table>\n",
       "</div>"
      ],
      "text/plain": [
       "            count\n",
       "prediction       \n",
       "(0.4, 0.5]    109\n",
       "(0.3, 0.4]     43\n",
       "(0.2, 0.3]     12\n",
       "(0.1, 0.2]      2\n",
       "(0.0, 0.1]      0"
      ]
     },
     "execution_count": 5,
     "metadata": {},
     "output_type": "execute_result"
    }
   ],
   "source": [
    "pd.DataFrame(pd.cut(edge_cases['prediction'], [0.0, 0.1, 0.2, 0.3, 0.4, 0.5], include_lowest=False).value_counts())\n"
   ]
  },
  {
   "cell_type": "code",
   "execution_count": 6,
   "id": "d9df9a47",
   "metadata": {
    "execution": {
     "iopub.execute_input": "2024-01-11T09:33:44.229487Z",
     "iopub.status.busy": "2024-01-11T09:33:44.229100Z",
     "iopub.status.idle": "2024-01-11T09:33:44.240471Z",
     "shell.execute_reply": "2024-01-11T09:33:44.238821Z"
    },
    "papermill": {
     "duration": 0.025387,
     "end_time": "2024-01-11T09:33:44.243045",
     "exception": false,
     "start_time": "2024-01-11T09:33:44.217658",
     "status": "completed"
    },
    "tags": []
   },
   "outputs": [
    {
     "name": "stdout",
     "output_type": "stream",
     "text": [
      "{'AUC': 0.9985770475470891}\n"
     ]
    }
   ],
   "source": [
    "with open(\"/kaggle/input/llm-daigt-find-edge-case/metrics.json\") as f:\n",
    "    metrics = json.load(f)\n",
    "print(metrics)\n"
   ]
  },
  {
   "cell_type": "code",
   "execution_count": 7,
   "id": "0545ba86",
   "metadata": {
    "execution": {
     "iopub.execute_input": "2024-01-11T09:33:44.285478Z",
     "iopub.status.busy": "2024-01-11T09:33:44.285147Z",
     "iopub.status.idle": "2024-01-11T09:33:46.501896Z",
     "shell.execute_reply": "2024-01-11T09:33:46.500572Z"
    },
    "papermill": {
     "duration": 2.231523,
     "end_time": "2024-01-11T09:33:46.504997",
     "exception": false,
     "start_time": "2024-01-11T09:33:44.273474",
     "status": "completed"
    },
    "tags": []
   },
   "outputs": [],
   "source": [
    "test = pd.read_csv('/kaggle/input/llm-detect-ai-generated-text/test_essays.csv')\n",
    "\n",
    "sub = pd.read_csv('/kaggle/input/llm-detect-ai-generated-text/sample_submission.csv')\n",
    "\n",
    "train = pd.read_csv(\"/kaggle/input/daigt-v2-train-dataset/train_v2_drcat_02.csv\", sep=',')\n"
   ]
  },
  {
   "cell_type": "code",
   "execution_count": 8,
   "id": "ded92eb7",
   "metadata": {
    "execution": {
     "iopub.execute_input": "2024-01-11T09:33:46.548344Z",
     "iopub.status.busy": "2024-01-11T09:33:46.547957Z",
     "iopub.status.idle": "2024-01-11T09:33:46.607937Z",
     "shell.execute_reply": "2024-01-11T09:33:46.606802Z"
    },
    "papermill": {
     "duration": 0.073991,
     "end_time": "2024-01-11T09:33:46.610599",
     "exception": false,
     "start_time": "2024-01-11T09:33:46.536608",
     "status": "completed"
    },
    "tags": []
   },
   "outputs": [],
   "source": [
    "train = train.drop_duplicates(subset=['text'])\n",
    "\n",
    "train.reset_index(drop=True, inplace=True)\n"
   ]
  },
  {
   "cell_type": "code",
   "execution_count": 9,
   "id": "0a73b7e2",
   "metadata": {
    "execution": {
     "iopub.execute_input": "2024-01-11T09:33:46.633502Z",
     "iopub.status.busy": "2024-01-11T09:33:46.633123Z",
     "iopub.status.idle": "2024-01-11T09:33:46.638442Z",
     "shell.execute_reply": "2024-01-11T09:33:46.637009Z"
    },
    "papermill": {
     "duration": 0.02048,
     "end_time": "2024-01-11T09:33:46.641283",
     "exception": false,
     "start_time": "2024-01-11T09:33:46.620803",
     "status": "completed"
    },
    "tags": []
   },
   "outputs": [],
   "source": [
    "LOWERCASE = False\n",
    "\n",
    "VOCAB_SIZE = 140000\n"
   ]
  },
  {
   "cell_type": "code",
   "execution_count": 10,
   "id": "a3109c78",
   "metadata": {
    "execution": {
     "iopub.execute_input": "2024-01-11T09:33:46.684346Z",
     "iopub.status.busy": "2024-01-11T09:33:46.683974Z",
     "iopub.status.idle": "2024-01-11T09:35:46.809830Z",
     "shell.execute_reply": "2024-01-11T09:35:46.808585Z"
    },
    "papermill": {
     "duration": 120.139807,
     "end_time": "2024-01-11T09:35:46.811913",
     "exception": false,
     "start_time": "2024-01-11T09:33:46.672106",
     "status": "completed"
    },
    "tags": []
   },
   "outputs": [
    {
     "name": "stdout",
     "output_type": "stream",
     "text": [
      "\n",
      "\n",
      "\n"
     ]
    },
    {
     "data": {
      "application/vnd.jupyter.widget-view+json": {
       "model_id": "fb259f39d2174af08dce462d91e4a8d5",
       "version_major": 2,
       "version_minor": 0
      },
      "text/plain": [
       "  0%|          | 0/3 [00:00<?, ?it/s]"
      ]
     },
     "metadata": {},
     "output_type": "display_data"
    },
    {
     "data": {
      "application/vnd.jupyter.widget-view+json": {
       "model_id": "6f5316fd65644d4abfbcc34b951c8c68",
       "version_major": 2,
       "version_minor": 0
      },
      "text/plain": [
       "  0%|          | 0/44868 [00:00<?, ?it/s]"
      ]
     },
     "metadata": {},
     "output_type": "display_data"
    }
   ],
   "source": [
    "# Create a tokenizer object using the Byte Pair Encoding (BPE) algorithm\n",
    "raw_tokenizer = Tokenizer(models.BPE(unk_token=\"[UNK]\"))\n",
    "\n",
    "# Normalize the text by applying Unicode Normalization Form C (NFC) and optionally lowercasing it\n",
    "raw_tokenizer.normalizer = normalizers.Sequence([normalizers.NFC()] + [normalizers.Lowercase()] if LOWERCASE else [])\n",
    "\n",
    "# Pre-tokenize the text by splitting it into bytes\n",
    "raw_tokenizer.pre_tokenizer = pre_tokenizers.ByteLevel()\n",
    "\n",
    "# Define the special tokens that will be used for the downstream task\n",
    "special_tokens = [\"[UNK]\", \"[PAD]\", \"[CLS]\", \"[SEP]\", \"[MASK]\"]\n",
    "\n",
    "# Create a trainer object that will train the tokenizer on the given vocabulary size and special tokens\n",
    "trainer = trainers.BpeTrainer(vocab_size=VOCAB_SIZE, special_tokens=special_tokens)\n",
    "\n",
    "# Load the test dataset from a pandas dataframe and select only the text column\n",
    "dataset = Dataset.from_pandas(test[['text']])\n",
    "\n",
    "# Define a generator function that will yield batches of text from the dataset\n",
    "def train_corp_iter(): \n",
    "    for i in range(0, len(dataset), 1000):\n",
    "        yield dataset[i : i + 1000][\"text\"]\n",
    "\n",
    "# Train the tokenizer on the batches of text using the trainer object\n",
    "raw_tokenizer.train_from_iterator(train_corp_iter(), trainer=trainer)\n",
    "\n",
    "# Wrap the raw tokenizer object into a PreTrainedTokenizerFast object that is compatible with the HuggingFace library\n",
    "tokenizer = PreTrainedTokenizerFast(\n",
    "    tokenizer_object=raw_tokenizer,\n",
    "    unk_token=\"[UNK]\",\n",
    "    pad_token=\"[PAD]\",\n",
    "    cls_token=\"[CLS]\",\n",
    "    sep_token=\"[SEP]\",\n",
    "    mask_token=\"[MASK]\",\n",
    ")\n",
    "\n",
    "# Initialize an empty list to store the tokenized texts for the test set\n",
    "tokenized_texts_test = []\n",
    "\n",
    "# Loop over the texts in the test set and tokenize them using the tokenizer object\n",
    "for text in tqdm(test['text'].tolist()):\n",
    "    tokenized_texts_test.append(tokenizer.tokenize(text))\n",
    "\n",
    "# Initialize an empty list to store the tokenized texts for the train set\n",
    "tokenized_texts_train = []\n",
    "\n",
    "# Loop over the texts in the train set and tokenize them using the tokenizer object\n",
    "for text in tqdm(train['text'].tolist()):\n",
    "    tokenized_texts_train.append(tokenizer.tokenize(text))\n"
   ]
  },
  {
   "cell_type": "code",
   "execution_count": 11,
   "id": "6d6eaff7",
   "metadata": {
    "execution": {
     "iopub.execute_input": "2024-01-11T09:35:46.835128Z",
     "iopub.status.busy": "2024-01-11T09:35:46.834760Z",
     "iopub.status.idle": "2024-01-11T09:35:46.843046Z",
     "shell.execute_reply": "2024-01-11T09:35:46.841816Z"
    },
    "papermill": {
     "duration": 0.023536,
     "end_time": "2024-01-11T09:35:46.845791",
     "exception": false,
     "start_time": "2024-01-11T09:35:46.822255",
     "status": "completed"
    },
    "tags": []
   },
   "outputs": [
    {
     "data": {
      "text/plain": [
       "['ĠBbb', 'Ġccc', 'Ġddd', '.']"
      ]
     },
     "execution_count": 11,
     "metadata": {},
     "output_type": "execute_result"
    }
   ],
   "source": [
    "# Access the second element (index 1) in the 'tokenized_texts_test' list 📚\n",
    "tokenized_texts_test[1]\n"
   ]
  },
  {
   "cell_type": "markdown",
   "id": "7e2e3899",
   "metadata": {
    "papermill": {
     "duration": 0.010927,
     "end_time": "2024-01-11T09:35:46.867395",
     "exception": false,
     "start_time": "2024-01-11T09:35:46.856468",
     "status": "completed"
    },
    "tags": []
   },
   "source": [
    "## 📑 TF-IDF Vectorization"
   ]
  },
  {
   "cell_type": "code",
   "execution_count": 12,
   "id": "9009c564",
   "metadata": {
    "execution": {
     "iopub.execute_input": "2024-01-11T09:35:46.911719Z",
     "iopub.status.busy": "2024-01-11T09:35:46.911384Z",
     "iopub.status.idle": "2024-01-11T09:36:56.101249Z",
     "shell.execute_reply": "2024-01-11T09:36:56.099369Z"
    },
    "papermill": {
     "duration": 69.266737,
     "end_time": "2024-01-11T09:36:56.166277",
     "exception": false,
     "start_time": "2024-01-11T09:35:46.899540",
     "status": "completed"
    },
    "tags": []
   },
   "outputs": [
    {
     "name": "stdout",
     "output_type": "stream",
     "text": [
      "{'ĠAaa Ġbbb Ġccc .': 0, 'ĠBbb Ġccc Ġddd .': 1, 'ĠCCC Ġddd Ġeee .': 2}\n"
     ]
    },
    {
     "data": {
      "text/plain": [
       "23"
      ]
     },
     "execution_count": 12,
     "metadata": {},
     "output_type": "execute_result"
    }
   ],
   "source": [
    "# Define a dummy function that returns the input text as it is\n",
    "def dummy(text):\n",
    "    return text\n",
    "\n",
    "# Create a TfidfVectorizer object that will extract n-grams of words (3 to 5) from the text, without lowercasing or tokenizing it\n",
    "vectorizer = TfidfVectorizer(ngram_range=(4, 4), lowercase=False, sublinear_tf=True, analyzer = 'word',\n",
    "    tokenizer = dummy,\n",
    "    preprocessor = dummy,\n",
    "    token_pattern = None, strip_accents='unicode')\n",
    "\n",
    "# Fit the vectorizer on the tokenized texts of the test set\n",
    "vectorizer.fit(tokenized_texts_test)\n",
    "\n",
    "# Get the vocabulary of the vectorizer, which is a dictionary of n-grams and their indices\n",
    "vocab = vectorizer.vocabulary_\n",
    "\n",
    "# Print the vocabulary\n",
    "print(vocab)\n",
    "\n",
    "# Create another TfidfVectorizer object with the same parameters, but using the vocabulary obtained from the previous vectorizer\n",
    "vectorizer = TfidfVectorizer(ngram_range=(4, 4), lowercase=False, sublinear_tf=True, vocabulary=vocab,\n",
    "                            analyzer = 'word',\n",
    "                            tokenizer = dummy,\n",
    "                            preprocessor = dummy,\n",
    "                            token_pattern = None, strip_accents='unicode'\n",
    "                            )\n",
    "\n",
    "# Fit and transform the vectorizer on the tokenized texts of the train set, and get the sparse matrix of tf-idf values\n",
    "tf_train = vectorizer.fit_transform(tokenized_texts_train)\n",
    "\n",
    "# Transform the vectorizer on the tokenized texts of the test set, and get the sparse matrix of tf-idf values\n",
    "tf_test = vectorizer.transform(tokenized_texts_test)\n",
    "\n",
    "# Delete the vectorizer object to free up memory\n",
    "del vectorizer\n",
    "\n",
    "# Invoke the garbage collector to reclaim unused memory\n",
    "gc.collect()\n"
   ]
  },
  {
   "cell_type": "code",
   "execution_count": 13,
   "id": "fbcef58b",
   "metadata": {
    "execution": {
     "iopub.execute_input": "2024-01-11T09:36:56.190582Z",
     "iopub.status.busy": "2024-01-11T09:36:56.190265Z",
     "iopub.status.idle": "2024-01-11T09:36:56.195050Z",
     "shell.execute_reply": "2024-01-11T09:36:56.193897Z"
    },
    "papermill": {
     "duration": 0.019825,
     "end_time": "2024-01-11T09:36:56.197979",
     "exception": false,
     "start_time": "2024-01-11T09:36:56.178154",
     "status": "completed"
    },
    "tags": []
   },
   "outputs": [],
   "source": [
    "y_train = train['label'].values"
   ]
  },
  {
   "cell_type": "markdown",
   "id": "a3d415e9",
   "metadata": {
    "papermill": {
     "duration": 0.011955,
     "end_time": "2024-01-11T09:36:56.221353",
     "exception": false,
     "start_time": "2024-01-11T09:36:56.209398",
     "status": "completed"
    },
    "tags": []
   },
   "source": [
    "## Model Training and Prediction¶\n"
   ]
  },
  {
   "cell_type": "code",
   "execution_count": 14,
   "id": "ffced496",
   "metadata": {
    "execution": {
     "iopub.execute_input": "2024-01-11T09:36:56.268111Z",
     "iopub.status.busy": "2024-01-11T09:36:56.267353Z",
     "iopub.status.idle": "2024-01-11T09:36:56.778014Z",
     "shell.execute_reply": "2024-01-11T09:36:56.775792Z"
    },
    "papermill": {
     "duration": 0.52581,
     "end_time": "2024-01-11T09:36:56.780463",
     "exception": false,
     "start_time": "2024-01-11T09:36:56.254653",
     "status": "completed"
    },
    "tags": []
   },
   "outputs": [
    {
     "name": "stdout",
     "output_type": "stream",
     "text": [
      "VotingClassifier(estimators=[('mnb', MultinomialNB(alpha=0.0235)),\n",
      "                             ('sgd',\n",
      "                              SGDClassifier(loss='modified_huber',\n",
      "                                            max_iter=9000, random_state=6743,\n",
      "                                            tol=0.0003)),\n",
      "                             ('lgb',\n",
      "                              LGBMClassifier(colsample_bynode=0.8,\n",
      "                                             colsample_bytree=0.78,\n",
      "                                             learning_rate=0.0031909898961407,\n",
      "                                             metric='auc', n_iter=3000,\n",
      "                                             objective='cross_entropy',\n",
      "                                             random_state=6743, verbose=-1)),\n",
      "                             ('cat',\n",
      "                              <catboost.core.CatBoostClassifier object at 0x7c9b8ab091b0>)],\n",
      "                 n_jobs=-1, voting='soft', weights=[0.1, 0.31, 0.31, 0.6])\n"
     ]
    }
   ],
   "source": [
    "# Define a function that returns an ensemble model of four classifiers\n",
    "def get_model():\n",
    "    # Import the CatBoostClassifier from the catboost library\n",
    "    from catboost import CatBoostClassifier\n",
    "    \n",
    "    # Create a Multinomial Naive Bayes classifier with a smoothing parameter of 0.0235\n",
    "    clf = MultinomialNB(alpha=0.0235)\n",
    "    \n",
    "    # Create a Stochastic Gradient Descent classifier with a maximum of 9000 iterations, a tolerance of 3e-4, a modified huber loss function, and a random state of 6743\n",
    "    sgd_model = SGDClassifier(max_iter=9000, tol=3e-4, loss=\"modified_huber\", random_state=6743) \n",
    "    \n",
    "    # Define a dictionary of parameters for a LightGBM classifier\n",
    "    p6={'n_iter': 3000,'verbose': -1,'objective': 'cross_entropy','metric': 'auc',\n",
    "        'learning_rate': 0.0031909898961407, 'colsample_bytree': 0.78,\n",
    "        'colsample_bynode': 0.8,\n",
    "       }\n",
    "    \n",
    "    # Set the random state of the LightGBM classifier to 6743\n",
    "    p6[\"random_state\"] = 6743\n",
    "    \n",
    "    # Create a LightGBM classifier with the given parameters\n",
    "    lgb=LGBMClassifier(**p6)\n",
    "    \n",
    "    # Create a CatBoost classifier with 3000 iterations, a learning rate of 0.003599066836106983, a subsample of 0.4, a cross entropy loss function, and a random seed of 6543\n",
    "    cat=CatBoostClassifier(iterations=3000,\n",
    "                           verbose=0,\n",
    "                           random_seed=6543,\n",
    "                           learning_rate=0.003599066836106983,\n",
    "                           subsample = 0.4,\n",
    "                           allow_const_label=True,loss_function = 'CrossEntropy')\n",
    "    \n",
    "    # Define a list of weights for the four classifiers\n",
    "    weights = [0.1,0.31,0.31,0.6]\n",
    " \n",
    "    # Create a voting classifier that combines the four classifiers using soft voting and parallel processing\n",
    "    ensemble = VotingClassifier(estimators=[('mnb',clf),\n",
    "                                            ('sgd', sgd_model),\n",
    "                                            ('lgb',lgb), \n",
    "                                            ('cat', cat)\n",
    "                                           ],\n",
    "                                weights=weights, voting='soft', n_jobs=-1)\n",
    "    \n",
    "    # Return the ensemble model\n",
    "    return ensemble\n",
    "\n",
    "# Call the get_model function and assign the returned model to a variable\n",
    "model = get_model()\n",
    "\n",
    "# Print the model\n",
    "print(model)\n",
    "\n",
    "# Check the length of the test text values\n",
    "if len(test.text.values) <= 5:\n",
    "    # If the length is less than or equal to 5, save the submission dataframe to a csv file\n",
    "    sub.to_csv('submission.csv', index=False)\n",
    "else:\n",
    "    # Otherwise, fit the model on the tf-idf matrix of the train set and the target labels\n",
    "    model.fit(tf_train, y_train)\n",
    "\n",
    "    # Invoke the garbage collector to reclaim unused memory\n",
    "    gc.collect()\n",
    "\n",
    "    # Predict the probabilities of the positive class for the test set using the model\n",
    "    final_preds = model.predict_proba(tf_test)[:,1]\n",
    "    \n",
    "    # Assign the predicted probabilities to the generated column of the submission dataframe\n",
    "    sub['generated'] = final_preds\n",
    "    \n",
    "    # Save the submission dataframe to a csv file\n",
    "    sub.to_csv('submission.csv', index=False)\n",
    "    \n",
    "    # Display the submission dataframe\n",
    "    sub\n"
   ]
  }
 ],
 "metadata": {
  "kaggle": {
   "accelerator": "none",
   "dataSources": [
    {
     "databundleVersionId": 6888007,
     "sourceId": 61542,
     "sourceType": "competition"
    },
    {
     "datasetId": 4005256,
     "sourceId": 6977472,
     "sourceType": "datasetVersion"
    },
    {
     "datasetId": 4099711,
     "sourceId": 7110479,
     "sourceType": "datasetVersion"
    },
    {
     "datasetId": 4104703,
     "sourceId": 7117339,
     "sourceType": "datasetVersion"
    },
    {
     "sourceId": 155681847,
     "sourceType": "kernelVersion"
    }
   ],
   "dockerImageVersionId": 30626,
   "isGpuEnabled": false,
   "isInternetEnabled": false,
   "language": "python",
   "sourceType": "notebook"
  },
  "kernelspec": {
   "display_name": "Python 3 (ipykernel)",
   "language": "python",
   "name": "python3"
  },
  "language_info": {
   "codemirror_mode": {
    "name": "ipython",
    "version": 3
   },
   "file_extension": ".py",
   "mimetype": "text/x-python",
   "name": "python",
   "nbconvert_exporter": "python",
   "pygments_lexer": "ipython3",
   "version": "3.9.7"
  },
  "papermill": {
   "default_parameters": {},
   "duration": 209.16786,
   "end_time": "2024-01-11T09:36:59.638564",
   "environment_variables": {},
   "exception": null,
   "input_path": "__notebook__.ipynb",
   "output_path": "__notebook__.ipynb",
   "parameters": {},
   "start_time": "2024-01-11T09:33:30.470704",
   "version": "2.4.0"
  },
  "widgets": {
   "application/vnd.jupyter.widget-state+json": {
    "state": {
     "07fd8ad51dbb49258cb8532b15d81516": {
      "model_module": "@jupyter-widgets/base",
      "model_module_version": "1.2.0",
      "model_name": "LayoutModel",
      "state": {
       "_model_module": "@jupyter-widgets/base",
       "_model_module_version": "1.2.0",
       "_model_name": "LayoutModel",
       "_view_count": null,
       "_view_module": "@jupyter-widgets/base",
       "_view_module_version": "1.2.0",
       "_view_name": "LayoutView",
       "align_content": null,
       "align_items": null,
       "align_self": null,
       "border": null,
       "bottom": null,
       "display": null,
       "flex": null,
       "flex_flow": null,
       "grid_area": null,
       "grid_auto_columns": null,
       "grid_auto_flow": null,
       "grid_auto_rows": null,
       "grid_column": null,
       "grid_gap": null,
       "grid_row": null,
       "grid_template_areas": null,
       "grid_template_columns": null,
       "grid_template_rows": null,
       "height": null,
       "justify_content": null,
       "justify_items": null,
       "left": null,
       "margin": null,
       "max_height": null,
       "max_width": null,
       "min_height": null,
       "min_width": null,
       "object_fit": null,
       "object_position": null,
       "order": null,
       "overflow": null,
       "overflow_x": null,
       "overflow_y": null,
       "padding": null,
       "right": null,
       "top": null,
       "visibility": null,
       "width": null
      }
     },
     "0f434e8a9775490eb450a8d1edaec8f2": {
      "model_module": "@jupyter-widgets/controls",
      "model_module_version": "1.5.0",
      "model_name": "ProgressStyleModel",
      "state": {
       "_model_module": "@jupyter-widgets/controls",
       "_model_module_version": "1.5.0",
       "_model_name": "ProgressStyleModel",
       "_view_count": null,
       "_view_module": "@jupyter-widgets/base",
       "_view_module_version": "1.2.0",
       "_view_name": "StyleView",
       "bar_color": null,
       "description_width": ""
      }
     },
     "18f55a0d7b224b6eb04ec4b03df5d361": {
      "model_module": "@jupyter-widgets/base",
      "model_module_version": "1.2.0",
      "model_name": "LayoutModel",
      "state": {
       "_model_module": "@jupyter-widgets/base",
       "_model_module_version": "1.2.0",
       "_model_name": "LayoutModel",
       "_view_count": null,
       "_view_module": "@jupyter-widgets/base",
       "_view_module_version": "1.2.0",
       "_view_name": "LayoutView",
       "align_content": null,
       "align_items": null,
       "align_self": null,
       "border": null,
       "bottom": null,
       "display": null,
       "flex": null,
       "flex_flow": null,
       "grid_area": null,
       "grid_auto_columns": null,
       "grid_auto_flow": null,
       "grid_auto_rows": null,
       "grid_column": null,
       "grid_gap": null,
       "grid_row": null,
       "grid_template_areas": null,
       "grid_template_columns": null,
       "grid_template_rows": null,
       "height": null,
       "justify_content": null,
       "justify_items": null,
       "left": null,
       "margin": null,
       "max_height": null,
       "max_width": null,
       "min_height": null,
       "min_width": null,
       "object_fit": null,
       "object_position": null,
       "order": null,
       "overflow": null,
       "overflow_x": null,
       "overflow_y": null,
       "padding": null,
       "right": null,
       "top": null,
       "visibility": null,
       "width": null
      }
     },
     "2df22e38da1b48ae88f120ff116d6edf": {
      "model_module": "@jupyter-widgets/controls",
      "model_module_version": "1.5.0",
      "model_name": "HTMLModel",
      "state": {
       "_dom_classes": [],
       "_model_module": "@jupyter-widgets/controls",
       "_model_module_version": "1.5.0",
       "_model_name": "HTMLModel",
       "_view_count": null,
       "_view_module": "@jupyter-widgets/controls",
       "_view_module_version": "1.5.0",
       "_view_name": "HTMLView",
       "description": "",
       "description_tooltip": null,
       "layout": "IPY_MODEL_07fd8ad51dbb49258cb8532b15d81516",
       "placeholder": "​",
       "style": "IPY_MODEL_361c93c4ebf443f6886cc124bd43a38a",
       "value": "100%"
      }
     },
     "361c93c4ebf443f6886cc124bd43a38a": {
      "model_module": "@jupyter-widgets/controls",
      "model_module_version": "1.5.0",
      "model_name": "DescriptionStyleModel",
      "state": {
       "_model_module": "@jupyter-widgets/controls",
       "_model_module_version": "1.5.0",
       "_model_name": "DescriptionStyleModel",
       "_view_count": null,
       "_view_module": "@jupyter-widgets/base",
       "_view_module_version": "1.2.0",
       "_view_name": "StyleView",
       "description_width": ""
      }
     },
     "3c102a9553414f77899ea952f0eed3b3": {
      "model_module": "@jupyter-widgets/controls",
      "model_module_version": "1.5.0",
      "model_name": "HTMLModel",
      "state": {
       "_dom_classes": [],
       "_model_module": "@jupyter-widgets/controls",
       "_model_module_version": "1.5.0",
       "_model_name": "HTMLModel",
       "_view_count": null,
       "_view_module": "@jupyter-widgets/controls",
       "_view_module_version": "1.5.0",
       "_view_name": "HTMLView",
       "description": "",
       "description_tooltip": null,
       "layout": "IPY_MODEL_3e510bc82ad146d7a4e85a6a5c7f4f3e",
       "placeholder": "​",
       "style": "IPY_MODEL_a5e625428ebb4f4e828adcc74bb8186b",
       "value": " 44868/44868 [02:00&lt;00:00, 336.25it/s]"
      }
     },
     "3e510bc82ad146d7a4e85a6a5c7f4f3e": {
      "model_module": "@jupyter-widgets/base",
      "model_module_version": "1.2.0",
      "model_name": "LayoutModel",
      "state": {
       "_model_module": "@jupyter-widgets/base",
       "_model_module_version": "1.2.0",
       "_model_name": "LayoutModel",
       "_view_count": null,
       "_view_module": "@jupyter-widgets/base",
       "_view_module_version": "1.2.0",
       "_view_name": "LayoutView",
       "align_content": null,
       "align_items": null,
       "align_self": null,
       "border": null,
       "bottom": null,
       "display": null,
       "flex": null,
       "flex_flow": null,
       "grid_area": null,
       "grid_auto_columns": null,
       "grid_auto_flow": null,
       "grid_auto_rows": null,
       "grid_column": null,
       "grid_gap": null,
       "grid_row": null,
       "grid_template_areas": null,
       "grid_template_columns": null,
       "grid_template_rows": null,
       "height": null,
       "justify_content": null,
       "justify_items": null,
       "left": null,
       "margin": null,
       "max_height": null,
       "max_width": null,
       "min_height": null,
       "min_width": null,
       "object_fit": null,
       "object_position": null,
       "order": null,
       "overflow": null,
       "overflow_x": null,
       "overflow_y": null,
       "padding": null,
       "right": null,
       "top": null,
       "visibility": null,
       "width": null
      }
     },
     "408eaf0a617846c4bf6c13c066fd9d02": {
      "model_module": "@jupyter-widgets/controls",
      "model_module_version": "1.5.0",
      "model_name": "FloatProgressModel",
      "state": {
       "_dom_classes": [],
       "_model_module": "@jupyter-widgets/controls",
       "_model_module_version": "1.5.0",
       "_model_name": "FloatProgressModel",
       "_view_count": null,
       "_view_module": "@jupyter-widgets/controls",
       "_view_module_version": "1.5.0",
       "_view_name": "ProgressView",
       "bar_style": "success",
       "description": "",
       "description_tooltip": null,
       "layout": "IPY_MODEL_cb8de7b68d524341975a77f26dd92240",
       "max": 3,
       "min": 0,
       "orientation": "horizontal",
       "style": "IPY_MODEL_0f434e8a9775490eb450a8d1edaec8f2",
       "value": 3
      }
     },
     "62504b796a0243348609312e3ba34750": {
      "model_module": "@jupyter-widgets/base",
      "model_module_version": "1.2.0",
      "model_name": "LayoutModel",
      "state": {
       "_model_module": "@jupyter-widgets/base",
       "_model_module_version": "1.2.0",
       "_model_name": "LayoutModel",
       "_view_count": null,
       "_view_module": "@jupyter-widgets/base",
       "_view_module_version": "1.2.0",
       "_view_name": "LayoutView",
       "align_content": null,
       "align_items": null,
       "align_self": null,
       "border": null,
       "bottom": null,
       "display": null,
       "flex": null,
       "flex_flow": null,
       "grid_area": null,
       "grid_auto_columns": null,
       "grid_auto_flow": null,
       "grid_auto_rows": null,
       "grid_column": null,
       "grid_gap": null,
       "grid_row": null,
       "grid_template_areas": null,
       "grid_template_columns": null,
       "grid_template_rows": null,
       "height": null,
       "justify_content": null,
       "justify_items": null,
       "left": null,
       "margin": null,
       "max_height": null,
       "max_width": null,
       "min_height": null,
       "min_width": null,
       "object_fit": null,
       "object_position": null,
       "order": null,
       "overflow": null,
       "overflow_x": null,
       "overflow_y": null,
       "padding": null,
       "right": null,
       "top": null,
       "visibility": null,
       "width": null
      }
     },
     "6688bcd118db4b7fae45e4875a4b826d": {
      "model_module": "@jupyter-widgets/base",
      "model_module_version": "1.2.0",
      "model_name": "LayoutModel",
      "state": {
       "_model_module": "@jupyter-widgets/base",
       "_model_module_version": "1.2.0",
       "_model_name": "LayoutModel",
       "_view_count": null,
       "_view_module": "@jupyter-widgets/base",
       "_view_module_version": "1.2.0",
       "_view_name": "LayoutView",
       "align_content": null,
       "align_items": null,
       "align_self": null,
       "border": null,
       "bottom": null,
       "display": null,
       "flex": null,
       "flex_flow": null,
       "grid_area": null,
       "grid_auto_columns": null,
       "grid_auto_flow": null,
       "grid_auto_rows": null,
       "grid_column": null,
       "grid_gap": null,
       "grid_row": null,
       "grid_template_areas": null,
       "grid_template_columns": null,
       "grid_template_rows": null,
       "height": null,
       "justify_content": null,
       "justify_items": null,
       "left": null,
       "margin": null,
       "max_height": null,
       "max_width": null,
       "min_height": null,
       "min_width": null,
       "object_fit": null,
       "object_position": null,
       "order": null,
       "overflow": null,
       "overflow_x": null,
       "overflow_y": null,
       "padding": null,
       "right": null,
       "top": null,
       "visibility": null,
       "width": null
      }
     },
     "6f5316fd65644d4abfbcc34b951c8c68": {
      "model_module": "@jupyter-widgets/controls",
      "model_module_version": "1.5.0",
      "model_name": "HBoxModel",
      "state": {
       "_dom_classes": [],
       "_model_module": "@jupyter-widgets/controls",
       "_model_module_version": "1.5.0",
       "_model_name": "HBoxModel",
       "_view_count": null,
       "_view_module": "@jupyter-widgets/controls",
       "_view_module_version": "1.5.0",
       "_view_name": "HBoxView",
       "box_style": "",
       "children": [
        "IPY_MODEL_cf995786f71a4cbba909fa0b4206c9af",
        "IPY_MODEL_87f11c7eeb054f25abf273801d0e54e7",
        "IPY_MODEL_3c102a9553414f77899ea952f0eed3b3"
       ],
       "layout": "IPY_MODEL_18f55a0d7b224b6eb04ec4b03df5d361"
      }
     },
     "72e8223dc2ac42638d2dff7287f1aa3d": {
      "model_module": "@jupyter-widgets/controls",
      "model_module_version": "1.5.0",
      "model_name": "HTMLModel",
      "state": {
       "_dom_classes": [],
       "_model_module": "@jupyter-widgets/controls",
       "_model_module_version": "1.5.0",
       "_model_name": "HTMLModel",
       "_view_count": null,
       "_view_module": "@jupyter-widgets/controls",
       "_view_module_version": "1.5.0",
       "_view_name": "HTMLView",
       "description": "",
       "description_tooltip": null,
       "layout": "IPY_MODEL_62504b796a0243348609312e3ba34750",
       "placeholder": "​",
       "style": "IPY_MODEL_c5265c408d3543429a4c25340d15fb27",
       "value": " 3/3 [00:00&lt;00:00, 161.34it/s]"
      }
     },
     "7fc3c830b998488dae73222c1540b567": {
      "model_module": "@jupyter-widgets/base",
      "model_module_version": "1.2.0",
      "model_name": "LayoutModel",
      "state": {
       "_model_module": "@jupyter-widgets/base",
       "_model_module_version": "1.2.0",
       "_model_name": "LayoutModel",
       "_view_count": null,
       "_view_module": "@jupyter-widgets/base",
       "_view_module_version": "1.2.0",
       "_view_name": "LayoutView",
       "align_content": null,
       "align_items": null,
       "align_self": null,
       "border": null,
       "bottom": null,
       "display": null,
       "flex": null,
       "flex_flow": null,
       "grid_area": null,
       "grid_auto_columns": null,
       "grid_auto_flow": null,
       "grid_auto_rows": null,
       "grid_column": null,
       "grid_gap": null,
       "grid_row": null,
       "grid_template_areas": null,
       "grid_template_columns": null,
       "grid_template_rows": null,
       "height": null,
       "justify_content": null,
       "justify_items": null,
       "left": null,
       "margin": null,
       "max_height": null,
       "max_width": null,
       "min_height": null,
       "min_width": null,
       "object_fit": null,
       "object_position": null,
       "order": null,
       "overflow": null,
       "overflow_x": null,
       "overflow_y": null,
       "padding": null,
       "right": null,
       "top": null,
       "visibility": null,
       "width": null
      }
     },
     "87f11c7eeb054f25abf273801d0e54e7": {
      "model_module": "@jupyter-widgets/controls",
      "model_module_version": "1.5.0",
      "model_name": "FloatProgressModel",
      "state": {
       "_dom_classes": [],
       "_model_module": "@jupyter-widgets/controls",
       "_model_module_version": "1.5.0",
       "_model_name": "FloatProgressModel",
       "_view_count": null,
       "_view_module": "@jupyter-widgets/controls",
       "_view_module_version": "1.5.0",
       "_view_name": "ProgressView",
       "bar_style": "success",
       "description": "",
       "description_tooltip": null,
       "layout": "IPY_MODEL_c2dc20a29edb4449873a0e82208b27f4",
       "max": 44868,
       "min": 0,
       "orientation": "horizontal",
       "style": "IPY_MODEL_a58108c2460347e5a066995fea430cd3",
       "value": 44868
      }
     },
     "a58108c2460347e5a066995fea430cd3": {
      "model_module": "@jupyter-widgets/controls",
      "model_module_version": "1.5.0",
      "model_name": "ProgressStyleModel",
      "state": {
       "_model_module": "@jupyter-widgets/controls",
       "_model_module_version": "1.5.0",
       "_model_name": "ProgressStyleModel",
       "_view_count": null,
       "_view_module": "@jupyter-widgets/base",
       "_view_module_version": "1.2.0",
       "_view_name": "StyleView",
       "bar_color": null,
       "description_width": ""
      }
     },
     "a5e625428ebb4f4e828adcc74bb8186b": {
      "model_module": "@jupyter-widgets/controls",
      "model_module_version": "1.5.0",
      "model_name": "DescriptionStyleModel",
      "state": {
       "_model_module": "@jupyter-widgets/controls",
       "_model_module_version": "1.5.0",
       "_model_name": "DescriptionStyleModel",
       "_view_count": null,
       "_view_module": "@jupyter-widgets/base",
       "_view_module_version": "1.2.0",
       "_view_name": "StyleView",
       "description_width": ""
      }
     },
     "bfd854392a98406f81f25a85cbe25003": {
      "model_module": "@jupyter-widgets/controls",
      "model_module_version": "1.5.0",
      "model_name": "DescriptionStyleModel",
      "state": {
       "_model_module": "@jupyter-widgets/controls",
       "_model_module_version": "1.5.0",
       "_model_name": "DescriptionStyleModel",
       "_view_count": null,
       "_view_module": "@jupyter-widgets/base",
       "_view_module_version": "1.2.0",
       "_view_name": "StyleView",
       "description_width": ""
      }
     },
     "c2dc20a29edb4449873a0e82208b27f4": {
      "model_module": "@jupyter-widgets/base",
      "model_module_version": "1.2.0",
      "model_name": "LayoutModel",
      "state": {
       "_model_module": "@jupyter-widgets/base",
       "_model_module_version": "1.2.0",
       "_model_name": "LayoutModel",
       "_view_count": null,
       "_view_module": "@jupyter-widgets/base",
       "_view_module_version": "1.2.0",
       "_view_name": "LayoutView",
       "align_content": null,
       "align_items": null,
       "align_self": null,
       "border": null,
       "bottom": null,
       "display": null,
       "flex": null,
       "flex_flow": null,
       "grid_area": null,
       "grid_auto_columns": null,
       "grid_auto_flow": null,
       "grid_auto_rows": null,
       "grid_column": null,
       "grid_gap": null,
       "grid_row": null,
       "grid_template_areas": null,
       "grid_template_columns": null,
       "grid_template_rows": null,
       "height": null,
       "justify_content": null,
       "justify_items": null,
       "left": null,
       "margin": null,
       "max_height": null,
       "max_width": null,
       "min_height": null,
       "min_width": null,
       "object_fit": null,
       "object_position": null,
       "order": null,
       "overflow": null,
       "overflow_x": null,
       "overflow_y": null,
       "padding": null,
       "right": null,
       "top": null,
       "visibility": null,
       "width": null
      }
     },
     "c5265c408d3543429a4c25340d15fb27": {
      "model_module": "@jupyter-widgets/controls",
      "model_module_version": "1.5.0",
      "model_name": "DescriptionStyleModel",
      "state": {
       "_model_module": "@jupyter-widgets/controls",
       "_model_module_version": "1.5.0",
       "_model_name": "DescriptionStyleModel",
       "_view_count": null,
       "_view_module": "@jupyter-widgets/base",
       "_view_module_version": "1.2.0",
       "_view_name": "StyleView",
       "description_width": ""
      }
     },
     "cb8de7b68d524341975a77f26dd92240": {
      "model_module": "@jupyter-widgets/base",
      "model_module_version": "1.2.0",
      "model_name": "LayoutModel",
      "state": {
       "_model_module": "@jupyter-widgets/base",
       "_model_module_version": "1.2.0",
       "_model_name": "LayoutModel",
       "_view_count": null,
       "_view_module": "@jupyter-widgets/base",
       "_view_module_version": "1.2.0",
       "_view_name": "LayoutView",
       "align_content": null,
       "align_items": null,
       "align_self": null,
       "border": null,
       "bottom": null,
       "display": null,
       "flex": null,
       "flex_flow": null,
       "grid_area": null,
       "grid_auto_columns": null,
       "grid_auto_flow": null,
       "grid_auto_rows": null,
       "grid_column": null,
       "grid_gap": null,
       "grid_row": null,
       "grid_template_areas": null,
       "grid_template_columns": null,
       "grid_template_rows": null,
       "height": null,
       "justify_content": null,
       "justify_items": null,
       "left": null,
       "margin": null,
       "max_height": null,
       "max_width": null,
       "min_height": null,
       "min_width": null,
       "object_fit": null,
       "object_position": null,
       "order": null,
       "overflow": null,
       "overflow_x": null,
       "overflow_y": null,
       "padding": null,
       "right": null,
       "top": null,
       "visibility": null,
       "width": null
      }
     },
     "cf995786f71a4cbba909fa0b4206c9af": {
      "model_module": "@jupyter-widgets/controls",
      "model_module_version": "1.5.0",
      "model_name": "HTMLModel",
      "state": {
       "_dom_classes": [],
       "_model_module": "@jupyter-widgets/controls",
       "_model_module_version": "1.5.0",
       "_model_name": "HTMLModel",
       "_view_count": null,
       "_view_module": "@jupyter-widgets/controls",
       "_view_module_version": "1.5.0",
       "_view_name": "HTMLView",
       "description": "",
       "description_tooltip": null,
       "layout": "IPY_MODEL_7fc3c830b998488dae73222c1540b567",
       "placeholder": "​",
       "style": "IPY_MODEL_bfd854392a98406f81f25a85cbe25003",
       "value": "100%"
      }
     },
     "fb259f39d2174af08dce462d91e4a8d5": {
      "model_module": "@jupyter-widgets/controls",
      "model_module_version": "1.5.0",
      "model_name": "HBoxModel",
      "state": {
       "_dom_classes": [],
       "_model_module": "@jupyter-widgets/controls",
       "_model_module_version": "1.5.0",
       "_model_name": "HBoxModel",
       "_view_count": null,
       "_view_module": "@jupyter-widgets/controls",
       "_view_module_version": "1.5.0",
       "_view_name": "HBoxView",
       "box_style": "",
       "children": [
        "IPY_MODEL_2df22e38da1b48ae88f120ff116d6edf",
        "IPY_MODEL_408eaf0a617846c4bf6c13c066fd9d02",
        "IPY_MODEL_72e8223dc2ac42638d2dff7287f1aa3d"
       ],
       "layout": "IPY_MODEL_6688bcd118db4b7fae45e4875a4b826d"
      }
     }
    },
    "version_major": 2,
    "version_minor": 0
   }
  }
 },
 "nbformat": 4,
 "nbformat_minor": 5
}
